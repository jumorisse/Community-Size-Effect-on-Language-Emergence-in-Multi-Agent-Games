{
 "cells": [
  {
   "cell_type": "markdown",
   "id": "b5bcec7d",
   "metadata": {},
   "source": [
    "# Topographic Similarity\n",
    "I will use topographic similarity as an indicator for a language's compositionality. I compute it as the pearson correlation between the distances in input and message space of data pairs randomly sampled from the evaluation data. I compute a topographic similarity score for each sender and then average over all senders to get a score for the whole community. Those community scores are then plotted for comparison."
   ]
  },
  {
   "cell_type": "markdown",
   "id": "ead1d830",
   "metadata": {},
   "source": [
    "### Loading Packages"
   ]
  },
  {
   "cell_type": "code",
   "execution_count": 1,
   "id": "b5bc2a8a",
   "metadata": {},
   "outputs": [],
   "source": [
    "import random\n",
    "import csv\n",
    "from scipy.spatial import distance\n",
    "from scipy import stats\n",
    "import numpy as np\n",
    "import time\n",
    "import matplotlib.pyplot as plt"
   ]
  },
  {
   "cell_type": "markdown",
   "id": "923426ab",
   "metadata": {},
   "source": [
    "### Defining Needed Functions"
   ]
  },
  {
   "cell_type": "code",
   "execution_count": 2,
   "id": "ac068942",
   "metadata": {},
   "outputs": [],
   "source": [
    "'''\n",
    "def get_csv_line(csv_path, line_idx):\n",
    "    with open(csv_path, 'r') as f:\n",
    "        reader = csv.reader(f)\n",
    "        for i,line in enumerate(reader):\n",
    "            if i == line_idx:\n",
    "                output = line\n",
    "                break\n",
    "    return output\n",
    "'''\n",
    "def get_csv_len(csv_path):\n",
    "    '''\n",
    "    Returns the number of lines in a csv file.\n",
    "    \n",
    "    Parameter:\n",
    "        csv_path -- The path to the csv file\n",
    "        \n",
    "    Output:\n",
    "        length -- An int denoting the number of lines in the csv file (count starts at 1)\n",
    "    '''\n",
    "    with open(csv_path, 'r') as f:\n",
    "        reader = csv.reader(f)\n",
    "        for i,line in enumerate(reader):\n",
    "            length = i + 1\n",
    "    return length"
   ]
  },
  {
   "cell_type": "markdown",
   "id": "baf4db4a",
   "metadata": {},
   "source": [
    "### Computing the Community Topographic Similarity Scores"
   ]
  },
  {
   "cell_type": "code",
   "execution_count": 3,
   "id": "5117579e",
   "metadata": {},
   "outputs": [],
   "source": [
    "# evaluation of topographic similarities\n",
    "comm_sizes = [1,2,4]\n",
    "seeds = [1,2,3,4,5]\n",
    "'''\n",
    "# Cosine Similarity not really fitting, Kim & Oh use (1 - HammingDistance)\n",
    "def similarity_measure(message_1, message_2):\n",
    "    hamming_distance = distance.hamming(message_1, message_2)\n",
    "    max_ham_distance = len(message_1)\n",
    "    normalized_ham_distance = hamming_distance/max_ham_distance\n",
    "    return (1-normalized_ham_distance)\n",
    "#similarity_measure = nn.CosineSimilarity(dim=0)\n",
    "'''\n",
    "\n",
    "# get the nr of lines in an evaluation dataset, same sizes for different comm sizes\n",
    "eval_data_len = get_csv_len('./Data/Evaluation_Data/Comm_Size_1/Seed_1/evaluation_data.csv')\n",
    "# the number of input-message pairs to sample\n",
    "sample_size = 10000\n",
    "pairs = []\n",
    "for i in range(0, sample_size):\n",
    "    pair_idxs = random.sample(range(1, eval_data_len), k = 2)\n",
    "    pairs.append(pair_idxs)\n",
    "    \n",
    "# list to store the ts scores of all communities\n",
    "avg_ts_scores = []\n",
    "ts_scores = []\n",
    "sender_ts_scores = []\n",
    "\n",
    "for comm_size in comm_sizes:\n",
    "    size_ts_scores = []\n",
    "    avg_size_ts_scores = []\n",
    "    for seed in seeds:\n",
    "        eval_data_path = './Data/Evaluation_Data/Comm_Size_'+ str(comm_size) +'/Seed_'+str(seed)+'/evaluation_data.csv'\n",
    "        sender_scores = []\n",
    "        with open(eval_data_path, 'r') as eval_data_file:\n",
    "            # STORING THE CSV DATA IN A LIST IS MUCH MUCH FASTER THAN THE OTHER WAY, POSSIBLE ALSO FOR LARGE CSV??\n",
    "            eval_data = list(csv.reader(eval_data_file))\n",
    "            for sender_idx in range(0,comm_size):\n",
    "                input_distances = []\n",
    "                message_distances = []\n",
    "                for pair in pairs:\n",
    "                    #sample_1 = get_csv_line(eval_data_path, pair[0])\n",
    "                    #sample_2 = get_csv_line(eval_data_path, pair[1])\n",
    "                    sample_1 = eval_data[pair[0]]\n",
    "                    sample_2 = eval_data[pair[1]]\n",
    "\n",
    "                    #sender_input_str_1 = sample_1[1].replace('[', '').replace('])', '').replace('\\n', '')\n",
    "                    #sender_input_str_2 = sample_2[1].replace('[', '').replace('])', '').replace('\\n', '')\n",
    "\n",
    "                    sender_input_1 = [float(element) for element in sample_1[1].split(',')]\n",
    "                    sender_input_2 = [float(element) for element in sample_2[1].split(',')]\n",
    "\n",
    "                    message_1 = [int(element) for element in sample_1[4+sender_idx].split(',')]\n",
    "                    message_2 = [int(element) for element in sample_2[4+sender_idx].split(',')]\n",
    "\n",
    "                    input_distance = distance.cosine(sender_input_1, sender_input_2)\n",
    "                    message_distance = distance.hamming(message_1[:-1], message_2[:-1])\n",
    "                    input_distances.append(input_distance)\n",
    "                    message_distances.append(message_distance)\n",
    "\n",
    "                corr_coeff, _ = stats.pearsonr(input_distances, message_distances)\n",
    "                sender_scores.append(corr_coeff)\n",
    "        avg_size_ts_scores.append(np.array(sender_scores).mean())\n",
    "        size_ts_scores.append(sender_scores)\n",
    "    avg_ts_scores.append(np.array(avg_size_ts_scores).mean())\n",
    "    ts_scores.append(avg_size_ts_scores)\n",
    "    sender_ts_scores.append(size_ts_scores)"
   ]
  },
  {
   "cell_type": "code",
   "execution_count": 4,
   "id": "8e5eb492",
   "metadata": {},
   "outputs": [
    {
     "name": "stdout",
     "output_type": "stream",
     "text": [
      "Average TopSim Scores of all Community Sizes:\n",
      "[0.2636740312497007, 0.2309536205190191, 0.2629267271710267]\n",
      "TopSim Scores of all Seeds:\n",
      "[[0.2599734489144281, 0.2848150025627295, 0.25690847286098495, 0.2547811642475429, 0.26189206766281786], [0.1963237534172415, 0.22691631601627626, 0.25955827232986983, 0.26029275049657774, 0.21167701033513026], [0.28097985521931546, 0.24388595961050957, 0.2645339923138001, 0.2730743490582893, 0.25215947965321917]]\n",
      "TopSim Scores of all Senders:\n",
      "[[[0.2599734489144281], [0.2848150025627295], [0.25690847286098495], [0.2547811642475429], [0.26189206766281786]], [[0.20111934905009643, 0.1915281577843866], [0.2894251116605516, 0.16440752037200093], [0.26328591002257834, 0.25583063463716127], [0.22287454854880218, 0.2977109524443533], [0.21175809372394436, 0.21159592694631613]], [[0.286712542856281, 0.29498610772344086, 0.26563492395205335, 0.27658584634548644], [0.2164709670142363, 0.2475244768208444, 0.25454489978676076, 0.2570034948201968], [0.2779222052519904, 0.2259611713740205, 0.26193485594860094, 0.2923177366805885], [0.2920833679265796, 0.2946312040710066, 0.2347696947725757, 0.2708131294629955], [0.24187090335750117, 0.27885201048724423, 0.2485214188521897, 0.2393935859159415]]]\n"
     ]
    }
   ],
   "source": [
    "print('Average TopSim Scores of all Community Sizes:')\n",
    "print(avg_ts_scores)\n",
    "print('TopSim Scores of all Seeds:')\n",
    "print(ts_scores)\n",
    "print('TopSim Scores of all Senders:')\n",
    "print(sender_ts_scores)"
   ]
  },
  {
   "cell_type": "markdown",
   "id": "f01de752",
   "metadata": {},
   "source": [
    "### Plotting"
   ]
  },
  {
   "cell_type": "code",
   "execution_count": 5,
   "id": "362c4f49",
   "metadata": {},
   "outputs": [
    {
     "data": {
      "text/plain": [
       "Text(0, 0.5, 'Topographic Similarity')"
      ]
     },
     "execution_count": 5,
     "metadata": {},
     "output_type": "execute_result"
    },
    {
     "data": {
      "image/png": "[encoded data removed]",
      "text/plain": [
       "<Figure size 432x288 with 1 Axes>"
      ]
     },
     "metadata": {
      "needs_background": "light"
     },
     "output_type": "display_data"
    }
   ],
   "source": [
    "fig, axs = plt.subplots(1,1, sharex = True)\n",
    "#fig.tight_layout()\n",
    "plt.subplots_adjust(wspace = 1)\n",
    "axs.plot(comm_sizes, avg_ts_scores)\n",
    "axs.grid(True)\n",
    "axs.set_title('Relation of Input and Message Space')\n",
    "axs.set_xticks(comm_sizes)\n",
    "axs.set_xlabel('Community Sizes')\n",
    "axs.set_ylabel('Topographic Similarity')"
   ]
  },
  {
   "cell_type": "markdown",
   "id": "9987c192",
   "metadata": {},
   "source": [
    "### Storing Results"
   ]
  },
  {
   "cell_type": "code",
   "execution_count": 6,
   "id": "0763bb85",
   "metadata": {},
   "outputs": [],
   "source": [
    "with open('./Data/Results/comm_top_sims.txt', 'a') as file:\n",
    "    for i,seed_scores in enumerate(ts_scores):\n",
    "        str_seed_scores = str(seed_scores).replace('[', '').replace(']', '')\n",
    "        file.write(str_seed_scores + ';' + str(avg_ts_scores[i]) + '\\n')\n",
    "\n",
    "with open('./Data/Results/sender_top_sims.txt', 'a') as file:\n",
    "    for list_of_sender_topsims in sender_ts_scores:\n",
    "        file.write(str(list_of_sender_topsims)+'\\n')"
   ]
  }
 ],
 "metadata": {
  "kernelspec": {
   "display_name": "Python 3 (ipykernel)",
   "language": "python",
   "name": "python3"
  },
  "language_info": {
   "codemirror_mode": {
    "name": "ipython",
    "version": 3
   },
   "file_extension": ".py",
   "mimetype": "text/x-python",
   "name": "python",
   "nbconvert_exporter": "python",
   "pygments_lexer": "ipython3",
   "version": "3.9.7"
  }
 },
 "nbformat": 4,
 "nbformat_minor": 5
}
