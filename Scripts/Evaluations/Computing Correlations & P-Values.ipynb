{
 "cells": [
  {
   "cell_type": "code",
   "execution_count": 1,
   "id": "30e6ef2a",
   "metadata": {},
   "outputs": [],
   "source": [
    "from scipy import stats"
   ]
  },
  {
   "cell_type": "code",
   "execution_count": 2,
   "id": "a634881b",
   "metadata": {},
   "outputs": [],
   "source": [
    "comm_sizes = [1,2,4]\n",
    "seeds = [1,2,3,4,5]"
   ]
  },
  {
   "cell_type": "markdown",
   "id": "4ed91e0a",
   "metadata": {},
   "source": [
    "## Game Success\n",
    "\n",
    "Read in the Results"
   ]
  },
  {
   "cell_type": "code",
   "execution_count": 3,
   "id": "dba21a12",
   "metadata": {
    "scrolled": true
   },
   "outputs": [
    {
     "name": "stdout",
     "output_type": "stream",
     "text": [
      "The comm sizes:  [1, 1, 1, 1, 1, 2, 2, 2, 2, 2, 4, 4, 4, 4, 4]\n",
      "And their accuracies:  [0.93856, 0.97503, 0.92774, 0.96633, 0.89976, 0.9125, 0.897315, 0.9189275, 0.906615, 0.9286025, 0.90751375, 0.89303625, 0.898134375, 0.896629375, 0.919498125]\n"
     ]
    }
   ],
   "source": [
    "sizes = []\n",
    "accuracies = []\n",
    "\n",
    "with open('./Data/Results/accuracies.txt', 'r') as f:\n",
    "    for i, line in enumerate(f):\n",
    "        accs = line.split(';')[0]\n",
    "        for acc in accs.split(','):\n",
    "            accuracies.append(float(acc))\n",
    "            sizes.append(comm_sizes[i])\n",
    "\n",
    "print('The comm sizes: ', sizes)\n",
    "print('And their accuracies: ', accuracies)"
   ]
  },
  {
   "cell_type": "markdown",
   "id": "89b2084e",
   "metadata": {},
   "source": [
    "Compute the Correlation Coefficient and P-Value"
   ]
  },
  {
   "cell_type": "code",
   "execution_count": 4,
   "id": "745ab404",
   "metadata": {},
   "outputs": [
    {
     "name": "stdout",
     "output_type": "stream",
     "text": [
      "The correlation coefficient between the community size and the game success is:  -0.606043532228729\n",
      "The respective p-value is:  0.016630082857197206\n",
      "\n",
      " \n",
      "When leaving out comm size 1:\n",
      "The correlation coefficient between the community size and the game success is:  -0.4373192835663251\n",
      "The respective p-value is:  0.20628101913403765\n"
     ]
    }
   ],
   "source": [
    "corr_coeff, p_value = stats.pearsonr(sizes, accuracies)\n",
    "print('The correlation coefficient between the community size and the game success is: ', corr_coeff)\n",
    "print('The respective p-value is: ', p_value)\n",
    "\n",
    "print('\\n \\nWhen leaving out comm size 1:')\n",
    "corr_coeff, p_value = stats.pearsonr(sizes[5:], accuracies[5:])\n",
    "print('The correlation coefficient between the community size and the game success is: ', corr_coeff)\n",
    "print('The respective p-value is: ', p_value)\n",
    "\n"
   ]
  },
  {
   "cell_type": "markdown",
   "id": "31d5d31b",
   "metadata": {},
   "source": [
    "## Language Convergence\n",
    "\n",
    "Read in Results"
   ]
  },
  {
   "cell_type": "code",
   "execution_count": 5,
   "id": "d03905cf",
   "metadata": {},
   "outputs": [
    {
     "name": "stdout",
     "output_type": "stream",
     "text": [
      "The comm sizes:  [1, 1, 1, 1, 1, 2, 2, 2, 2, 2, 4, 4, 4, 4, 4]\n",
      "And their language convergence scores:  [1.0, 1.0, 1.0, 1.0, 1.0, 0.41692799999999997, 0.05441199999999999, 0.3771880000000001, 0.18587, 0.19354199999999996, 0.129448, 0.17345866666666668, 0.26265999999999995, 0.3855236666666667, 0.29656899999999997]\n"
     ]
    }
   ],
   "source": [
    "sizes = []\n",
    "lang_conv_scores = []\n",
    "\n",
    "with open('./Data/Results/conv_scores.txt', 'r') as f:\n",
    "    for i, line in enumerate(f):\n",
    "        conv_scores = line.split(';')[0]\n",
    "        for conv_score in conv_scores.split(','):\n",
    "            lang_conv_scores.append(float(conv_score))\n",
    "            sizes.append(comm_sizes[i])\n",
    "\n",
    "print('The comm sizes: ', sizes)\n",
    "print('And their language convergence scores: ', lang_conv_scores)"
   ]
  },
  {
   "cell_type": "markdown",
   "id": "c793aff6",
   "metadata": {},
   "source": [
    "Compute the Correlation Coefficient and P-Value"
   ]
  },
  {
   "cell_type": "code",
   "execution_count": 6,
   "id": "b8f9e785",
   "metadata": {},
   "outputs": [
    {
     "name": "stdout",
     "output_type": "stream",
     "text": [
      "The correlation coefficient between the community size and the language convergence is:  -0.7281784767533492\n",
      "The respective p-value is:  0.002082537838360411\n",
      "\n",
      " \n",
      "When leaving out comm size 1 (for this metric a rather theoretical score):\n",
      "The correlation coefficient between the community size and the language convergence is:  0.01725363989501008\n",
      "The respective p-value is:  0.9622688961672926\n"
     ]
    }
   ],
   "source": [
    "corr_coeff, p_value = stats.pearsonr(sizes, lang_conv_scores)\n",
    "print('The correlation coefficient between the community size and the language convergence is: ', corr_coeff)\n",
    "print('The respective p-value is: ', p_value)\n",
    "\n",
    "print('\\n \\nWhen leaving out comm size 1 (for this metric a rather theoretical score):')\n",
    "corr_coeff, p_value = stats.pearsonr(sizes[5:], lang_conv_scores[5:])\n",
    "print('The correlation coefficient between the community size and the language convergence is: ', corr_coeff)\n",
    "print('The respective p-value is: ', p_value)\n"
   ]
  },
  {
   "cell_type": "markdown",
   "id": "dfcfc71f",
   "metadata": {},
   "source": [
    "## Topographic Similarity\n",
    "\n",
    "Reading in Results"
   ]
  },
  {
   "cell_type": "code",
   "execution_count": 7,
   "id": "340bb4bf",
   "metadata": {},
   "outputs": [
    {
     "name": "stdout",
     "output_type": "stream",
     "text": [
      "The comm sizes:  [1, 1, 1, 1, 1, 2, 2, 2, 2, 2, 4, 4, 4, 4, 4]\n",
      "And their topographic similarities:  [0.2599734489144281, 0.2848150025627295, 0.25690847286098495, 0.2547811642475429, 0.26189206766281786, 0.1963237534172415, 0.22691631601627626, 0.25955827232986983, 0.26029275049657774, 0.21167701033513026, 0.28097985521931546, 0.24388595961050957, 0.2645339923138001, 0.2730743490582893, 0.25215947965321917]\n"
     ]
    }
   ],
   "source": [
    "sizes = []\n",
    "topographic_similarities = []\n",
    "\n",
    "with open('./Data/Results/comm_top_sims.txt', 'r') as f:\n",
    "    for i, line in enumerate(f):\n",
    "        top_sims = line.split(';')[0]\n",
    "        for top_sim in top_sims.split(','):\n",
    "            topographic_similarities.append(float(top_sim))\n",
    "            sizes.append(comm_sizes[i])\n",
    "\n",
    "print('The comm sizes: ', sizes)\n",
    "print('And their topographic similarities: ', topographic_similarities)"
   ]
  },
  {
   "cell_type": "markdown",
   "id": "372aad06",
   "metadata": {},
   "source": [
    "Compute the Correlation Coefficient and P-Value"
   ]
  },
  {
   "cell_type": "code",
   "execution_count": 8,
   "id": "4f7330fb",
   "metadata": {},
   "outputs": [
    {
     "name": "stdout",
     "output_type": "stream",
     "text": [
      "The correlation coefficient between the community size and the topographic similarity is:  0.1100749804572744\n",
      "The respective p-value is:  0.6961491513717756\n",
      "\n",
      " \n",
      "When leaving out comm size 1:\n",
      "The correlation coefficient between the community size and the topographic similarity is:  0.616154768312512\n",
      "The respective p-value is:  0.057840284591382074\n"
     ]
    }
   ],
   "source": [
    "corr_coeff, p_value = stats.pearsonr(sizes, topographic_similarities)\n",
    "print('The correlation coefficient between the community size and the topographic similarity is: ', corr_coeff)\n",
    "print('The respective p-value is: ', p_value)\n",
    "\n",
    "print('\\n \\nWhen leaving out comm size 1:')\n",
    "corr_coeff, p_value = stats.pearsonr(sizes[5:], topographic_similarities[5:])\n",
    "print('The correlation coefficient between the community size and the topographic similarity is: ', corr_coeff)\n",
    "print('The respective p-value is: ', p_value)"
   ]
  },
  {
   "cell_type": "markdown",
   "id": "39a1252e",
   "metadata": {},
   "source": [
    "## Concept Encoding\n",
    "\n",
    "Reading in Results"
   ]
  },
  {
   "cell_type": "code",
   "execution_count": 9,
   "id": "44f5582a",
   "metadata": {},
   "outputs": [
    {
     "name": "stdout",
     "output_type": "stream",
     "text": [
      "The comm sizes:  [1, 1, 1, 1, 1, 2, 2, 2, 2, 2, 4, 4, 4, 4, 4]\n",
      "And their concept encoding scores:  [0.007633333333333333, 0.0097, 0.004366666666666666, 0.0082, 0.004333333333333333, 0.0042833333333333334, 0.004366666666666666, 0.004583333333333333, 0.004016666666666667, 0.0043, 0.0044083333333333335, 0.004308333333333333, 0.004225, 0.00435, 0.0047083333333333335]\n"
     ]
    }
   ],
   "source": [
    "sizes = []\n",
    "concept_encoding_scores = []\n",
    "\n",
    "with open('./Data/Results/concept_encoding_scores.txt', 'r') as f:\n",
    "    for i, line in enumerate(f):\n",
    "        accs = line.split(';')[0]\n",
    "        for acc in accs.split(','):\n",
    "            concept_encoding_scores.append(float(acc))\n",
    "            sizes.append(comm_sizes[i])\n",
    "\n",
    "print('The comm sizes: ', sizes)\n",
    "print('And their concept encoding scores: ', concept_encoding_scores)"
   ]
  },
  {
   "cell_type": "code",
   "execution_count": 10,
   "id": "f5c5738a",
   "metadata": {},
   "outputs": [
    {
     "name": "stdout",
     "output_type": "stream",
     "text": [
      "The correlation coefficient between the community size and the topographic similarity is:  -0.5039463347413162\n",
      "The respective p-value is:  0.055443031463381455\n",
      "\n",
      " \n",
      "When leaving out comm size 1:\n",
      "The correlation coefficient between the community size and the topographic similarity is:  0.25089426449705166\n",
      "The respective p-value is:  0.4844313147705649\n"
     ]
    }
   ],
   "source": [
    "corr_coeff, p_value = stats.pearsonr(sizes, concept_encoding_scores)\n",
    "print('The correlation coefficient between the community size and the topographic similarity is: ', corr_coeff)\n",
    "print('The respective p-value is: ', p_value)\n",
    "\n",
    "print('\\n \\nWhen leaving out comm size 1:')\n",
    "corr_coeff, p_value = stats.pearsonr(sizes[5:], concept_encoding_scores[5:])\n",
    "print('The correlation coefficient between the community size and the topographic similarity is: ', corr_coeff)\n",
    "print('The respective p-value is: ', p_value)"
   ]
  }
 ],
 "metadata": {
  "kernelspec": {
   "display_name": "Python 3 (ipykernel)",
   "language": "python",
   "name": "python3"
  },
  "language_info": {
   "codemirror_mode": {
    "name": "ipython",
    "version": 3
   },
   "file_extension": ".py",
   "mimetype": "text/x-python",
   "name": "python",
   "nbconvert_exporter": "python",
   "pygments_lexer": "ipython3",
   "version": "3.9.7"
  }
 },
 "nbformat": 4,
 "nbformat_minor": 5
}
