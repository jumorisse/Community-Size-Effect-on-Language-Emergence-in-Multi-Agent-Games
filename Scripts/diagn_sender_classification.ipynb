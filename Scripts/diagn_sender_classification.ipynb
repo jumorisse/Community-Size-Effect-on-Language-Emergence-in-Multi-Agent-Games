{
 "cells": [
  {
   "cell_type": "markdown",
   "id": "e87d95fc",
   "metadata": {},
   "source": [
    "# Diagnostic Sender Classificatio to Probe Co-Adaptation"
   ]
  },
  {
   "cell_type": "markdown",
   "id": "d376635f",
   "metadata": {},
   "source": [
    "## Importing the Required Packages"
   ]
  },
  {
   "cell_type": "code",
   "execution_count": 1,
   "id": "1cc09f18",
   "metadata": {},
   "outputs": [],
   "source": [
    "import torch\n",
    "import torch.nn as nn\n",
    "import torch.nn.functional as F\n",
    "import torch.optim as optim\n",
    "from torch.utils.data import Dataset, DataLoader\n",
    "\n",
    "import numpy as np\n",
    "import csv\n",
    "import matplotlib.pyplot as plt\n",
    "\n",
    "device = torch.device(\"cuda\" if torch.cuda.is_available() else \"cpu\")"
   ]
  },
  {
   "cell_type": "markdown",
   "id": "fb2e7d1b",
   "metadata": {},
   "source": [
    "## Preparing the Evaluation Data"
   ]
  },
  {
   "cell_type": "code",
   "execution_count": 2,
   "id": "d5e0fefe",
   "metadata": {},
   "outputs": [],
   "source": [
    "def load_eval_data(eval_data_path, comm_size):\n",
    "    '''\n",
    "    load_eval_data opens the given evaluation data and uses it to produce a dataset for training and testing the diagnostic classifier.\n",
    "    \n",
    "    Parameter:\n",
    "        eval_data_path -- Path of the evaluation data\n",
    "        comm_size -- The community size and therefore the number of different senders\n",
    "    \n",
    "    Output:\n",
    "        Dataset as list of tuples (message, sender_idx)\n",
    "            message -- Tensor of one-hot encoded message symbols in size (message length, vocab size)\n",
    "            label --  One-hot encoded imagenet class of target image\n",
    "    '''\n",
    "    output_data = [] \n",
    "    with open(eval_data_path, 'r') as eval_data:\n",
    "        reader = csv.reader(eval_data)\n",
    "        for i,line in enumerate(reader):\n",
    "            for sender_idx in range(comm_size):\n",
    "                if i > 0:\n",
    "                    # the message's symbols are one-hot encoded and a message in gru compatible format is produced from these one-hot encodings,\n",
    "                    # i.e. in a tensor of shape(sequence_len, input_size) which in my case is (message_len+1,vocab_size) = (6,10)\n",
    "                    message = [int(symbol) for symbol in line[4+sender_idx].split(',')]\n",
    "                    symbols_one_hot = []\n",
    "                    for symbol in message:\n",
    "                        symbols_one_hot.append(list(F.one_hot(torch.tensor(symbol), num_classes = 10)))\n",
    "                    message_gru_compatible = torch.tensor(symbols_one_hot).type(torch.FloatTensor)\n",
    "                    # the label is one-hot encoded as well\n",
    "                    sender_idx_one_hot = F.one_hot(torch.tensor(sender_idx), comm_size).type(torch.FloatTensor)\n",
    "                    # gru compatible message and one-hot encoded label, are stored as the datasets input and target\n",
    "                    output_data.append((message_gru_compatible, sender_idx_one_hot))\n",
    "                \n",
    "    return output_data"
   ]
  },
  {
   "cell_type": "code",
   "execution_count": 3,
   "id": "c3d2a026",
   "metadata": {},
   "outputs": [],
   "source": [
    "class Diagn_Dataset(Dataset):\n",
    "    '''\n",
    "    A PyTorch compatible dataset for training, validating and testing the diagnostic classifier of a sender\n",
    "    \n",
    "    Attributes:\n",
    "        frame -- The dataset\n",
    "    \n",
    "    Methods:\n",
    "        __init__(eval_data_path, sender_idx) -- Creates an object of the class\n",
    "        __len__() -- Returns the length \n",
    "        __getitem__(idx) -- Returns a sample from frame by index\n",
    "    '''\n",
    "    def __init__(self, eval_data_path, comm_size):\n",
    "        '''\n",
    "        Intializes an object of the Diagn_Dataset class by filling the frame attribute with the output of a load_eval_data() call.\n",
    "        \n",
    "        Parameter:\n",
    "            eval_data_path -- Path to the evaluation data to be used\n",
    "            comm_size -- The community size and therefore the number of different senders\n",
    "        \n",
    "        Output:\n",
    "            None\n",
    "        '''\n",
    "        super(Dataset, self).__init__()\n",
    "        self.frame = load_eval_data(eval_data_path, comm_size)\n",
    "    \n",
    "    def __len__(self):\n",
    "        'Returns the length of the dataset.'\n",
    "        return len(self.frame)\n",
    "\n",
    "    def __getitem__(self, idx):\n",
    "        '''\n",
    "        Returns an entry of the dataset by index.\n",
    "        \n",
    "        Parameter:\n",
    "            idx -- Index of the the requested entry\n",
    "            \n",
    "        Output:\n",
    "            Entry of the dataset in the form (message, label)\n",
    "        '''\n",
    "        return self.frame[idx]"
   ]
  },
  {
   "cell_type": "markdown",
   "id": "4866c02d",
   "metadata": {},
   "source": [
    "## The Diagnostic Classifier"
   ]
  },
  {
   "cell_type": "code",
   "execution_count": 4,
   "id": "05accc97",
   "metadata": {},
   "outputs": [],
   "source": [
    "class Diagnostic_Classifier(nn.Module):\n",
    "    '''\n",
    "    A diagnostic classifier, i.e. a neural network, to be used for evaluating concept encoding of a sender.\n",
    "    \n",
    "    Attributes:\n",
    "        gru -- The first layer of the network, a GRU cell\n",
    "        fc -- The second layer of the network, a fully connected layer\n",
    "        output -- The output layer of the network, a fully connected layer\n",
    "    \n",
    "    Methods:\n",
    "        __init__(input_dim = 10, output_dim = 1000, gru_hidden = 10) -- Creates an object of the class\n",
    "        forward(x) -- Computes the output of the network given input x\n",
    "    '''\n",
    "    def __init__(self, output_dim, input_dim = 10,gru_hidden = 10):\n",
    "        '''\n",
    "        Initializes a class object by initializing its attributes.\n",
    "        \n",
    "        Parameter:\n",
    "            input_dim -- Input dimension of the first layer, the GRU cell (default: 10)\n",
    "            outptu_dim -- Dimension of the output tensor, should be equal to nr of classes (default: 1000)\n",
    "            gru_hidden -- Size of the GRU's hidden state (default = 10)\n",
    "        \n",
    "        Output:\n",
    "            None\n",
    "        '''\n",
    "        super().__init__()\n",
    "        self.gru = nn.GRU(input_dim, gru_hidden, batch_first = True)\n",
    "        self.fc = nn.Linear(gru_hidden, 512)\n",
    "        self.output = nn.Linear(512, output_dim)\n",
    "    \n",
    "    def forward(self, x):\n",
    "        '''\n",
    "        Computes the output of the network when given input x.\n",
    "        \n",
    "        Parameter:\n",
    "            x - Input, a representation of a message\n",
    "        \n",
    "        Output:\n",
    "            A tensor in the dimesnion of number of classes, the element with the highest activation represents the networks class predicition\n",
    "        '''\n",
    "        # can provide gru 2nd input (init hidden state), defaults to zeros\n",
    "        _, x = self.gru(x)\n",
    "        x = self.fc(x.squeeze())\n",
    "        x = self.output(x)\n",
    "        return x"
   ]
  },
  {
   "cell_type": "markdown",
   "id": "a1492e71",
   "metadata": {},
   "source": [
    "## Sender Classification for All Communities"
   ]
  },
  {
   "cell_type": "code",
   "execution_count": 5,
   "id": "bbe438d7",
   "metadata": {},
   "outputs": [],
   "source": [
    "# the community sizes to be evaluated\n",
    "comm_sizes = [2,4]\n",
    "seeds = [1,2,3,4,5]\n",
    "# list to store the accuracies for each community size (averaged over senders)\n",
    "avg_losses = []\n",
    "losses = []\n",
    "avg_accs = []\n",
    "accs = []\n",
    "\n",
    "# parameters for training the diagnostic classifiers\n",
    "num_epochs = 30\n",
    "batch_size = 256\n",
    "learning_rate = 0.001\n",
    "\n",
    "# evaluating each community size\n",
    "for comm_size in comm_sizes:\n",
    "    comm_accs = []\n",
    "    comm_losses = []\n",
    "    for seed in seeds:\n",
    "        eval_data_path = './Data/Evaluation_Data/Comm_Size_'+ str(comm_size) +'/Seed_'+str(seed)+'/evaluation_data.csv'\n",
    "\n",
    "        # initializing the diagnostic classifier\n",
    "        diagn_classifier = Diagnostic_Classifier(output_dim = comm_size).to(device)\n",
    "        # loading the evaluation data and splitting in a train and test set\n",
    "        # using generator for splitting to make sure all classifiers get train and test data from the same game interactions\n",
    "        data = Diagn_Dataset(eval_data_path, comm_size)\n",
    "\n",
    "        train_data_len = int(len(data) * 0.5)\n",
    "        test_data_len = len(data) - train_data_len\n",
    "\n",
    "        train_data, test_data = torch.utils.data.random_split(data, [train_data_len, test_data_len], generator=torch.Generator().manual_seed(42))\n",
    "        \n",
    "        trainloader = DataLoader(train_data, batch_size = batch_size, shuffle = True, num_workers = 1)\n",
    "        testloader = DataLoader(test_data, batch_size = batch_size, shuffle = False, num_workers = 1)\n",
    "\n",
    "        # defining the loss criterion and optimizer\n",
    "        criterion = nn.CrossEntropyLoss()\n",
    "        optimizer = optim.Adam(diagn_classifier.parameters(), lr=learning_rate)\n",
    "        \n",
    "        # training diagnostic classifier for current sender\n",
    "        for epoch in range(num_epochs):\n",
    "            running_loss = 0.0\n",
    "            for i, (inputs, labels) in enumerate(trainloader, 0):\n",
    "                optimizer.zero_grad()\n",
    "                outputs = diagn_classifier(inputs.to(device))\n",
    "                loss = criterion(outputs, labels.to(device))\n",
    "                loss.backward()\n",
    "                optimizer.step()\n",
    "\n",
    "        # evaluating the diagnostic classifiers performance on the test data\n",
    "        total = 0\n",
    "        correct = 0\n",
    "        total_loss = 0\n",
    "        with torch.no_grad():\n",
    "            for (inputs, labels) in testloader:\n",
    "                outputs = diagn_classifier(inputs.to(device))\n",
    "                _, predicted = torch.max(outputs.data, 1)\n",
    "                _, targets = torch.max(labels, 1)\n",
    "                total += labels.size(0)\n",
    "                correct += (predicted == targets.to(device)).sum().item()\n",
    "                total_loss += criterion(outputs, labels.to(device)).item()\n",
    "        \n",
    "        comm_accs.append((correct/total))\n",
    "        comm_losses.append((total_loss/total))\n",
    "\n",
    "    avg_losses.append(np.array(comm_losses).mean())\n",
    "    losses.append(comm_losses)\n",
    "    avg_accs.append(np.array(comm_accs).mean())\n",
    "    accs.append(comm_accs)"
   ]
  },
  {
   "cell_type": "code",
   "execution_count": 6,
   "id": "ccc357f7",
   "metadata": {},
   "outputs": [
    {
     "name": "stdout",
     "output_type": "stream",
     "text": [
      "Num Epochs:  30    Batch Size:  256   Learning Rate: 0.001\n",
      "Average of Seed Scores:  [0.95827, 0.90622]\n",
      "Average of Seed Losses:  [0.00024623580261319875, 0.0005956643903143704]\n",
      "Seed Scores:  [[0.93255, 1.0, 0.91913, 0.98108, 0.95859], [0.951105, 0.95529, 0.925695, 0.83917, 0.85984]]\n",
      "Seed Losses:  [[0.00039092926256358625, 0.0, 0.0004433129861950874, 0.00016217979757115244, 0.00023475696673616768], [0.00031602241691201923, 0.0003445280125923455, 0.0004637682382389903, 0.0009944294792413712, 0.0008595738045871257]]\n"
     ]
    }
   ],
   "source": [
    "print('Num Epochs: ', num_epochs, '   Batch Size: ', batch_size, '  Learning Rate:', learning_rate)\n",
    "print('Average of Seed Scores: ', avg_accs)\n",
    "print('Average of Seed Losses: ', avg_losses)\n",
    "print('Seed Scores: ', accs)\n",
    "print('Seed Losses: ', losses)"
   ]
  },
  {
   "cell_type": "markdown",
   "id": "97d0521b",
   "metadata": {},
   "source": [
    "## Plotting the Diagnostic Classifier Accuracies by Community Sizes"
   ]
  },
  {
   "cell_type": "code",
   "execution_count": 7,
   "id": "0e14f03e",
   "metadata": {},
   "outputs": [
    {
     "data": {
      "text/plain": [
       "Text(0, 0.5, 'Accuracy')"
      ]
     },
     "execution_count": 7,
     "metadata": {},
     "output_type": "execute_result"
    },
    {
     "data": {
      "image/png": "[encoded data removed]",
      "text/plain": [
       "<Figure size 432x288 with 1 Axes>"
      ]
     },
     "metadata": {
      "needs_background": "light"
     },
     "output_type": "display_data"
    }
   ],
   "source": [
    "fig, axs = plt.subplots(1,1, sharex = True)\n",
    "\n",
    "axs.plot(comm_sizes, avg_accs)\n",
    "axs.grid(True)\n",
    "axs.set_title('Performance of Diagnostic Classifiers')\n",
    "axs.set_xticks(comm_sizes)\n",
    "axs.set_xlabel('Community Size')\n",
    "axs.set_ylabel('Accuracy')"
   ]
  },
  {
   "cell_type": "markdown",
   "id": "ea04f1c5",
   "metadata": {},
   "source": [
    "### Saving Results"
   ]
  },
  {
   "cell_type": "code",
   "execution_count": 8,
   "id": "5e5d5f6c",
   "metadata": {},
   "outputs": [],
   "source": [
    "with open('./Data/Results/Explor_Analysis/sender_classif_accs.txt', 'a') as file:\n",
    "    for i,seed_scores in enumerate(accs):\n",
    "        str_seed_scores = str(seed_scores).replace('[', '').replace(']', '')\n",
    "        file.write(str_seed_scores + ';' + str(avg_accs[i]) + '\\n')\n",
    "\n",
    "with open('./Data/Results/Explor_Analysis/sender_classif_losses.txt', 'a') as file:\n",
    "    for i,seed_losses in enumerate(losses):\n",
    "        str_seed_losses = str(seed_losses).replace('[', '').replace(']', '')\n",
    "        file.write(str_seed_losses + ';' + str(avg_losses[i]) + '\\n')\n"
   ]
  }
 ],
 "metadata": {
  "kernelspec": {
   "display_name": "Python 3 (ipykernel)",
   "language": "python",
   "name": "python3"
  },
  "language_info": {
   "codemirror_mode": {
    "name": "ipython",
    "version": 3
   },
   "file_extension": ".py",
   "mimetype": "text/x-python",
   "name": "python",
   "nbconvert_exporter": "python",
   "pygments_lexer": "ipython3",
   "version": "3.9.7"
  }
 },
 "nbformat": 4,
 "nbformat_minor": 5
}
