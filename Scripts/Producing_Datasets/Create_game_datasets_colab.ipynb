{
  "cells": [
    {
      "cell_type": "code",
      "execution_count": null,
      "metadata": {
        "colab": {
          "base_uri": "https://localhost:8080/"
        },
        "id": "5-2iSbqNOc5O",
        "outputId": "8548db68-43ed-4739-f1cd-fa58b989a766"
      },
      "outputs": [
        {
          "output_type": "stream",
          "name": "stdout",
          "text": [
            "Sat Jul 16 00:15:42 2022       \n",
            "+-----------------------------------------------------------------------------+\n",
            "| NVIDIA-SMI 460.32.03    Driver Version: 460.32.03    CUDA Version: 11.2     |\n",
            "|-------------------------------+----------------------+----------------------+\n",
            "| GPU  Name        Persistence-M| Bus-Id        Disp.A | Volatile Uncorr. ECC |\n",
            "| Fan  Temp  Perf  Pwr:Usage/Cap|         Memory-Usage | GPU-Util  Compute M. |\n",
            "|                               |                      |               MIG M. |\n",
            "|===============================+======================+======================|\n",
            "|   0  Tesla P100-PCIE...  Off  | 00000000:00:04.0 Off |                    0 |\n",
            "| N/A   37C    P0    26W / 250W |      0MiB / 16280MiB |      0%      Default |\n",
            "|                               |                      |                  N/A |\n",
            "+-------------------------------+----------------------+----------------------+\n",
            "                                                                               \n",
            "+-----------------------------------------------------------------------------+\n",
            "| Processes:                                                                  |\n",
            "|  GPU   GI   CI        PID   Type   Process name                  GPU Memory |\n",
            "|        ID   ID                                                   Usage      |\n",
            "|=============================================================================|\n",
            "|  No running processes found                                                 |\n",
            "+-----------------------------------------------------------------------------+\n"
          ]
        }
      ],
      "source": [
        "gpu_info = !nvidia-smi\n",
        "gpu_info = '\\n'.join(gpu_info)\n",
        "if gpu_info.find('failed') >= 0:\n",
        "  print('Not connected to a GPU')\n",
        "else:\n",
        "  print(gpu_info)"
      ],
      "id": "5-2iSbqNOc5O"
    },
    {
      "cell_type": "markdown",
      "metadata": {
        "id": "4c1f2913"
      },
      "source": [
        "# Vision Module & Embedding Generation"
      ],
      "id": "4c1f2913"
    },
    {
      "cell_type": "code",
      "execution_count": null,
      "metadata": {
        "id": "7602f0ac"
      },
      "outputs": [],
      "source": [
        "import torch\n",
        "#import egg.core as core\n",
        "from torchvision import models, datasets, transforms\n",
        "import random\n",
        "import os.path\n",
        "from torch.utils.data import Dataset\n",
        "from typing import Type, Any, Callable, Union, List, Dict, Optional, cast\n",
        "from collections import OrderedDict \n",
        "from torchvision.models.resnet import *\n",
        "from torchvision.models.resnet import BasicBlock, Bottleneck\n",
        "from torchvision.models.resnet import model_urls\n",
        "from torch.hub import load_state_dict_from_url\n",
        "import csv\n",
        "import pandas as pd\n",
        "import time\n",
        "\n",
        "#import psutil\n",
        "\n",
        "device = torch.device(\"cuda\" if torch.cuda.is_available() else \"cpu\")"
      ],
      "id": "7602f0ac"
    },
    {
      "cell_type": "code",
      "execution_count": null,
      "metadata": {
        "colab": {
          "base_uri": "https://localhost:8080/"
        },
        "id": "UXWRkYHKfJUK",
        "outputId": "746a5ef7-a517-40c5-fa5e-6b392d0593d5"
      },
      "outputs": [
        {
          "output_type": "stream",
          "name": "stdout",
          "text": [
            "Mounted at /content/drive\n"
          ]
        }
      ],
      "source": [
        "from google.colab import drive\n",
        "drive.mount('/content/drive')"
      ],
      "id": "UXWRkYHKfJUK"
    },
    {
      "cell_type": "markdown",
      "metadata": {
        "id": "8c8c052d"
      },
      "source": [
        "## Load Vision Module & Image Dataset"
      ],
      "id": "8c8c052d"
    },
    {
      "cell_type": "code",
      "execution_count": null,
      "metadata": {
        "id": "9d037379",
        "colab": {
          "base_uri": "https://localhost:8080/",
          "height": 156,
          "referenced_widgets": [
            "77c71026089e47c6b756dd5a65dba5d5",
            "793da79aec8b480dabda67a8b20b420a",
            "cdb3517bd06b4234aa7cf49603a2575d",
            "978a50d9fb004ece941d5976ff9b5e35",
            "b3dd4df98b734130bbdc5d1d7ad3d5a8",
            "072478e275cf4d89a0c96dfba556a738",
            "679636eaa2e743668aaeeec660db0028",
            "8fba6725bec3417eba1bfcd1bcd3fe32",
            "e05dd91b45e94bfda8dd1b41d175de4b",
            "9cb6ffdad0684e32bc43896721dec273",
            "16a85be9979849ecbff81ada398e5bd6"
          ]
        },
        "outputId": "2fff5bb7-bc2e-456b-9aec-45dcbac6e82a"
      },
      "outputs": [
        {
          "output_type": "stream",
          "name": "stderr",
          "text": [
            "/usr/local/lib/python3.7/dist-packages/torchvision/models/_utils.py:209: UserWarning: The parameter 'pretrained' is deprecated since 0.13 and will be removed in 0.15, please use 'weights' instead.\n",
            "  f\"The parameter '{pretrained_param}' is deprecated since 0.13 and will be removed in 0.15, \"\n",
            "/usr/local/lib/python3.7/dist-packages/torchvision/models/_utils.py:223: UserWarning: Arguments other than a weight enum or `None` for 'weights' are deprecated since 0.13 and will be removed in 0.15. The current behavior is equivalent to passing `weights=ResNet18_Weights.IMAGENET1K_V1`. You can also use `weights=ResNet18_Weights.DEFAULT` to get the most up-to-date weights.\n",
            "  warnings.warn(msg)\n",
            "Downloading: \"https://download.pytorch.org/models/resnet18-f37072fd.pth\" to /root/.cache/torch/hub/checkpoints/resnet18-f37072fd.pth\n"
          ]
        },
        {
          "output_type": "display_data",
          "data": {
            "text/plain": [
              "  0%|          | 0.00/44.7M [00:00<?, ?B/s]"
            ],
            "application/vnd.jupyter.widget-view+json": {
              "version_major": 2,
              "version_minor": 0,
              "model_id": "77c71026089e47c6b756dd5a65dba5d5"
            }
          },
          "metadata": {}
        }
      ],
      "source": [
        "# First, the pretrained resnet18 is loaded\n",
        "rn18 = models.resnet18(pretrained=True)\n",
        "\n",
        "# Since the output of the resnet 18 model is an almost one-hot encoding, it makes more sense to use an\n",
        "# intermediate representation. I will use the output of the second to last layer, i.e. the output of the avgpool layer.\n",
        "\n",
        "# In order to get that desired output, we need to define a new model which is basically a copy of the\n",
        "# pre trained resnet18 with only the last layer missing. I do this mainly based on https://medium.com/the-owl/extracting-features-from-an-intermediate-layer-of-a-pretrained-model-in-pytorch-easy-way-62631c7fa8f6\n",
        "class IntResNet(ResNet):\n",
        "    def __init__(self,output_layer,*args):\n",
        "        self.output_layer = output_layer\n",
        "        super().__init__(*args)\n",
        "        \n",
        "        self._layers = []\n",
        "        for l in list(self._modules.keys()):\n",
        "            self._layers.append(l)\n",
        "            if l == output_layer:\n",
        "                break\n",
        "        self.layers = OrderedDict(zip(self._layers,[getattr(self,l) for l in self._layers]))\n",
        "\n",
        "    def _forward_impl(self, x):\n",
        "        for l in self._layers:\n",
        "            x = self.layers[l](x)\n",
        "\n",
        "        return x\n",
        "\n",
        "    def forward(self, x):\n",
        "        return self._forward_impl(x)\n",
        "\n",
        "def new_resnet(\n",
        "    arch: str,\n",
        "    outlayer: str,\n",
        "    block: Type[Union[BasicBlock, Bottleneck]],\n",
        "    layers: List[int],\n",
        "    pretrained: bool,\n",
        "    progress: bool,\n",
        "    **kwargs: Any\n",
        ") -> IntResNet:\n",
        "\n",
        "    '''model_urls = {\n",
        "        'resnet18': 'https://download.pytorch.org/models/resnet18-5c106cde.pth',\n",
        "        'resnet34': 'https://download.pytorch.org/models/resnet34-333f7ec4.pth',\n",
        "        'resnet50': 'https://download.pytorch.org/models/resnet50-19c8e357.pth',\n",
        "        'resnet101': 'https://download.pytorch.org/models/resnet101-5d3b4d8f.pth',\n",
        "        'resnet152': 'https://download.pytorch.org/models/resnet152-b121ed2d.pth',\n",
        "        'resnext50_32x4d': 'https://download.pytorch.org/models/resnext50_32x4d-7cdf4587.pth',\n",
        "        'resnext101_32x8d': 'https://download.pytorch.org/models/resnext101_32x8d-8ba56ff5.pth',\n",
        "        'wide_resnet50_2': 'https://download.pytorch.org/models/wide_resnet50_2-95faca4d.pth',\n",
        "        'wide_resnet101_2': 'https://download.pytorch.org/models/wide_resnet101_2-32ee1156.pth',\n",
        "    }'''\n",
        "\n",
        "    model = IntResNet(outlayer, block, layers, **kwargs)\n",
        "    if pretrained:\n",
        "        state_dict = load_state_dict_from_url(model_urls[arch],\n",
        "                                              progress=progress)\n",
        "        model.load_state_dict(state_dict)\n",
        "    return model"
      ],
      "id": "9d037379"
    },
    {
      "cell_type": "code",
      "execution_count": null,
      "metadata": {
        "colab": {
          "base_uri": "https://localhost:8080/"
        },
        "id": "0a89ea0b",
        "outputId": "0a49cedc-eb89-4486-f8ff-4465acdc0a45"
      },
      "outputs": [
        {
          "output_type": "stream",
          "name": "stderr",
          "text": [
            "/usr/local/lib/python3.7/dist-packages/torchvision/models/_utils.py:253: UserWarning: Accessing the model URLs via the internal dictionary of the module is deprecated since 0.13 and will be removed in 0.15. Please access them via the appropriate Weights Enum instead.\n",
            "  \"Accessing the model URLs via the internal dictionary of the module is deprecated since 0.13 and will \"\n"
          ]
        },
        {
          "output_type": "execute_result",
          "data": {
            "text/plain": [
              "IntResNet(\n",
              "  (conv1): Conv2d(3, 64, kernel_size=(7, 7), stride=(2, 2), padding=(3, 3), bias=False)\n",
              "  (bn1): BatchNorm2d(64, eps=1e-05, momentum=0.1, affine=True, track_running_stats=True)\n",
              "  (relu): ReLU(inplace=True)\n",
              "  (maxpool): MaxPool2d(kernel_size=3, stride=2, padding=1, dilation=1, ceil_mode=False)\n",
              "  (layer1): Sequential(\n",
              "    (0): BasicBlock(\n",
              "      (conv1): Conv2d(64, 64, kernel_size=(3, 3), stride=(1, 1), padding=(1, 1), bias=False)\n",
              "      (bn1): BatchNorm2d(64, eps=1e-05, momentum=0.1, affine=True, track_running_stats=True)\n",
              "      (relu): ReLU(inplace=True)\n",
              "      (conv2): Conv2d(64, 64, kernel_size=(3, 3), stride=(1, 1), padding=(1, 1), bias=False)\n",
              "      (bn2): BatchNorm2d(64, eps=1e-05, momentum=0.1, affine=True, track_running_stats=True)\n",
              "    )\n",
              "    (1): BasicBlock(\n",
              "      (conv1): Conv2d(64, 64, kernel_size=(3, 3), stride=(1, 1), padding=(1, 1), bias=False)\n",
              "      (bn1): BatchNorm2d(64, eps=1e-05, momentum=0.1, affine=True, track_running_stats=True)\n",
              "      (relu): ReLU(inplace=True)\n",
              "      (conv2): Conv2d(64, 64, kernel_size=(3, 3), stride=(1, 1), padding=(1, 1), bias=False)\n",
              "      (bn2): BatchNorm2d(64, eps=1e-05, momentum=0.1, affine=True, track_running_stats=True)\n",
              "    )\n",
              "  )\n",
              "  (layer2): Sequential(\n",
              "    (0): BasicBlock(\n",
              "      (conv1): Conv2d(64, 128, kernel_size=(3, 3), stride=(2, 2), padding=(1, 1), bias=False)\n",
              "      (bn1): BatchNorm2d(128, eps=1e-05, momentum=0.1, affine=True, track_running_stats=True)\n",
              "      (relu): ReLU(inplace=True)\n",
              "      (conv2): Conv2d(128, 128, kernel_size=(3, 3), stride=(1, 1), padding=(1, 1), bias=False)\n",
              "      (bn2): BatchNorm2d(128, eps=1e-05, momentum=0.1, affine=True, track_running_stats=True)\n",
              "      (downsample): Sequential(\n",
              "        (0): Conv2d(64, 128, kernel_size=(1, 1), stride=(2, 2), bias=False)\n",
              "        (1): BatchNorm2d(128, eps=1e-05, momentum=0.1, affine=True, track_running_stats=True)\n",
              "      )\n",
              "    )\n",
              "    (1): BasicBlock(\n",
              "      (conv1): Conv2d(128, 128, kernel_size=(3, 3), stride=(1, 1), padding=(1, 1), bias=False)\n",
              "      (bn1): BatchNorm2d(128, eps=1e-05, momentum=0.1, affine=True, track_running_stats=True)\n",
              "      (relu): ReLU(inplace=True)\n",
              "      (conv2): Conv2d(128, 128, kernel_size=(3, 3), stride=(1, 1), padding=(1, 1), bias=False)\n",
              "      (bn2): BatchNorm2d(128, eps=1e-05, momentum=0.1, affine=True, track_running_stats=True)\n",
              "    )\n",
              "  )\n",
              "  (layer3): Sequential(\n",
              "    (0): BasicBlock(\n",
              "      (conv1): Conv2d(128, 256, kernel_size=(3, 3), stride=(2, 2), padding=(1, 1), bias=False)\n",
              "      (bn1): BatchNorm2d(256, eps=1e-05, momentum=0.1, affine=True, track_running_stats=True)\n",
              "      (relu): ReLU(inplace=True)\n",
              "      (conv2): Conv2d(256, 256, kernel_size=(3, 3), stride=(1, 1), padding=(1, 1), bias=False)\n",
              "      (bn2): BatchNorm2d(256, eps=1e-05, momentum=0.1, affine=True, track_running_stats=True)\n",
              "      (downsample): Sequential(\n",
              "        (0): Conv2d(128, 256, kernel_size=(1, 1), stride=(2, 2), bias=False)\n",
              "        (1): BatchNorm2d(256, eps=1e-05, momentum=0.1, affine=True, track_running_stats=True)\n",
              "      )\n",
              "    )\n",
              "    (1): BasicBlock(\n",
              "      (conv1): Conv2d(256, 256, kernel_size=(3, 3), stride=(1, 1), padding=(1, 1), bias=False)\n",
              "      (bn1): BatchNorm2d(256, eps=1e-05, momentum=0.1, affine=True, track_running_stats=True)\n",
              "      (relu): ReLU(inplace=True)\n",
              "      (conv2): Conv2d(256, 256, kernel_size=(3, 3), stride=(1, 1), padding=(1, 1), bias=False)\n",
              "      (bn2): BatchNorm2d(256, eps=1e-05, momentum=0.1, affine=True, track_running_stats=True)\n",
              "    )\n",
              "  )\n",
              "  (layer4): Sequential(\n",
              "    (0): BasicBlock(\n",
              "      (conv1): Conv2d(256, 512, kernel_size=(3, 3), stride=(2, 2), padding=(1, 1), bias=False)\n",
              "      (bn1): BatchNorm2d(512, eps=1e-05, momentum=0.1, affine=True, track_running_stats=True)\n",
              "      (relu): ReLU(inplace=True)\n",
              "      (conv2): Conv2d(512, 512, kernel_size=(3, 3), stride=(1, 1), padding=(1, 1), bias=False)\n",
              "      (bn2): BatchNorm2d(512, eps=1e-05, momentum=0.1, affine=True, track_running_stats=True)\n",
              "      (downsample): Sequential(\n",
              "        (0): Conv2d(256, 512, kernel_size=(1, 1), stride=(2, 2), bias=False)\n",
              "        (1): BatchNorm2d(512, eps=1e-05, momentum=0.1, affine=True, track_running_stats=True)\n",
              "      )\n",
              "    )\n",
              "    (1): BasicBlock(\n",
              "      (conv1): Conv2d(512, 512, kernel_size=(3, 3), stride=(1, 1), padding=(1, 1), bias=False)\n",
              "      (bn1): BatchNorm2d(512, eps=1e-05, momentum=0.1, affine=True, track_running_stats=True)\n",
              "      (relu): ReLU(inplace=True)\n",
              "      (conv2): Conv2d(512, 512, kernel_size=(3, 3), stride=(1, 1), padding=(1, 1), bias=False)\n",
              "      (bn2): BatchNorm2d(512, eps=1e-05, momentum=0.1, affine=True, track_running_stats=True)\n",
              "    )\n",
              "  )\n",
              "  (avgpool): AdaptiveAvgPool2d(output_size=(1, 1))\n",
              "  (fc): Linear(in_features=512, out_features=1000, bias=True)\n",
              ")"
            ]
          },
          "metadata": {},
          "execution_count": 5
        }
      ],
      "source": [
        "# Second, the vision module is defined as all the layers of the pre trained resnet18 model except the last one\n",
        "vision_module = new_resnet('resnet18', 'avgpool', BasicBlock, [2, 2, 2, 2],True,True)\n",
        "\n",
        "# Lastly, the vision module is put into evaluation mode and assigned to the device in use\n",
        "vision_module.eval()\n",
        "vision_module.to(device)"
      ],
      "id": "0a89ea0b"
    },
    {
      "cell_type": "code",
      "execution_count": null,
      "metadata": {
        "id": "0e399c07",
        "scrolled": false
      },
      "outputs": [],
      "source": [
        "imagenet_train_data = datasets.ImageNet(root='/content/drive/My Drive/Thesis_Data/ILSVRC2012', split = 'train', transform = transforms.ToTensor())\n",
        "#val_data = datasets.ImageNet(root='/content/drive/My Drive/Thesis_Data/ILSVRC2012', split = 'val', transform = transforms.ToTensor())\n",
        "#imagenet_val_data = datasets.ImageNet(root='/content', split = 'val', transform = transforms.ToTensor())"
      ],
      "id": "0e399c07"
    },
    {
      "cell_type": "code",
      "execution_count": null,
      "metadata": {
        "id": "Ln8p2wdmx0pz"
      },
      "outputs": [],
      "source": [
        "train_data_len = int(len(imagenet_train_data)*0.7)\n",
        "test_data_len = len(imagenet_train_data) - train_data_len\n",
        "train_data, test_data = torch.utils.data.random_split(imagenet_train_data, [train_data_len, test_data_len], generator=torch.Generator().manual_seed(42))"
      ],
      "id": "Ln8p2wdmx0pz"
    },
    {
      "cell_type": "markdown",
      "metadata": {
        "id": "e73d9f04"
      },
      "source": [
        "## Produce & Store Embeddings\n",
        "Since my computational ressources are limited, the image embeddings that are fed to the sender/receiver are not computed in inference time but ahead of training."
      ],
      "id": "e73d9f04"
    },
    {
      "cell_type": "code",
      "execution_count": null,
      "metadata": {
        "id": "BONdRJVRoaxA"
      },
      "outputs": [],
      "source": [
        "def produce_game_dataset_txt(img_data, game_data_path, size, test = False):\n",
        "    start = time.time()\n",
        "    for i in range(size):\n",
        "        if i % 1000 == 0:\n",
        "            end = time.time()\n",
        "            print(i, ':', end-start)\n",
        "            start = time.time()\n",
        "        img_idxs = random.sample(range(0, len(img_data)), k = 3)\n",
        "        embeddings = []\n",
        "        labels = []\n",
        "        for idx in img_idxs:\n",
        "            img, label = img_data[idx]\n",
        "            embeddings.append(vision_module(img[None, ...].to(device)))\n",
        "            labels.append(label)\n",
        "        target_idx = random.randint(0,2)\n",
        "\n",
        "        with open(game_data_path, 'a') as game_data:\n",
        "            row = ''\n",
        "            for embedding in embeddings:\n",
        "                embedding_string = str(embedding.tolist()).replace(',', '').replace('[', '').replace(']', '')\n",
        "                row += embedding_string + ' , '\n",
        "            row += str(labels[target_idx]) + ' , '\n",
        "            row += str(target_idx) + '\\n'\n",
        "            game_data.write(row)"
      ],
      "id": "BONdRJVRoaxA"
    },
    {
      "cell_type": "code",
      "execution_count": null,
      "metadata": {
        "id": "Vrm1uT-Bym-L"
      },
      "outputs": [],
      "source": [
        "#produce_game_dataset_txt(train_data, '/content/drive/My Drive/Thesis_Data/Game_Data/train.txt', 6633)\n",
        "#1000 : 1531.020563364029\n",
        "#2000 : 1532.3743567466736\n",
        "# 118,661"
      ],
      "id": "Vrm1uT-Bym-L"
    },
    {
      "cell_type": "code",
      "execution_count": null,
      "metadata": {
        "id": "YLuT-z5vzYqs"
      },
      "outputs": [],
      "source": [
        "#print('Done')"
      ],
      "id": "YLuT-z5vzYqs"
    },
    {
      "cell_type": "code",
      "execution_count": null,
      "metadata": {
        "colab": {
          "base_uri": "https://localhost:8080/"
        },
        "id": "VFNFqO8DGm-M",
        "outputId": "112e1699-8d6c-4428-a579-53229023e1f4"
      },
      "outputs": [
        {
          "output_type": "stream",
          "name": "stdout",
          "text": [
            "0 : 2.1457672119140625e-06\n",
            "1000 : 2022.2942426204681\n",
            "2000 : 1898.6195180416107\n",
            "3000 : 1870.963428735733\n",
            "4000 : 1839.2745723724365\n",
            "5000 : 1859.9636926651\n",
            "6000 : 1833.7077906131744\n",
            "7000 : 1835.1265635490417\n",
            "8000 : 1784.2856335639954\n",
            "9000 : 1802.209911108017\n",
            "10000 : 1785.7311594486237\n",
            "11000 : 1748.174738407135\n",
            "12000 : 1738.773525238037\n",
            "13000 : 1768.6210618019104\n",
            "14000 : 1752.8278930187225\n",
            "15000 : 1710.4765775203705\n",
            "16000 : 1728.9124355316162\n",
            "17000 : 1705.9580590724945\n",
            "18000 : 1701.3090987205505\n",
            "19000 : 1664.0070970058441\n",
            "20000 : 1647.4673840999603\n",
            "21000 : 1612.9175233840942\n",
            "22000 : 1608.7065370082855\n",
            "23000 : 1598.1014215946198\n",
            "24000 : 1564.5836272239685\n",
            "25000 : 1590.7648718357086\n",
            "26000 : 1592.0928165912628\n",
            "27000 : 1537.4044196605682\n",
            "28000 : 1569.2036199569702\n",
            "29000 : 1560.9328453540802\n"
          ]
        }
      ],
      "source": [
        "produce_game_dataset_txt(test_data, '/content/drive/My Drive/Thesis_Data/Game_Data/test.txt', 30000)\n",
        "# 10,000"
      ],
      "id": "VFNFqO8DGm-M"
    },
    {
      "cell_type": "code",
      "execution_count": null,
      "metadata": {
        "id": "DRo5M_wD0pSy",
        "colab": {
          "base_uri": "https://localhost:8080/"
        },
        "outputId": "26c21088-ff50-4498-ea29-a5511dc9d9e6"
      },
      "outputs": [
        {
          "output_type": "stream",
          "name": "stdout",
          "text": [
            "Done\n"
          ]
        }
      ],
      "source": [
        "print('Done')"
      ],
      "id": "DRo5M_wD0pSy"
    },
    {
      "cell_type": "code",
      "execution_count": null,
      "metadata": {
        "id": "h3rXI05i0wFy"
      },
      "outputs": [],
      "source": [
        "#val_data = datasets.ImageNet(root='/content/drive/My Drive/Thesis_Data/ILSVRC2012', split = 'val', transform = transforms.ToTensor())"
      ],
      "id": "h3rXI05i0wFy"
    },
    {
      "cell_type": "code",
      "execution_count": null,
      "metadata": {
        "id": "E4bSyteM0q0i"
      },
      "outputs": [],
      "source": [
        "#produce_game_dataset_txt(val_data, '/content/drive/My Drive/Thesis_Data/Game_Data/val.txt', 20000)\n",
        "# 10,000"
      ],
      "id": "E4bSyteM0q0i"
    },
    {
      "cell_type": "code",
      "execution_count": null,
      "metadata": {
        "id": "HapnEkNq0zWY",
        "colab": {
          "base_uri": "https://localhost:8080/"
        },
        "outputId": "8b349f40-c654-4d19-ab2a-e0d418586822"
      },
      "outputs": [
        {
          "output_type": "stream",
          "name": "stdout",
          "text": [
            "Done\n"
          ]
        }
      ],
      "source": [
        "print('Done')"
      ],
      "id": "HapnEkNq0zWY"
    }
  ],
  "metadata": {
    "accelerator": "GPU",
    "colab": {
      "collapsed_sections": [],
      "name": "Create_game_datasets_colab.ipynb",
      "provenance": []
    },
    "gpuClass": "standard",
    "kernelspec": {
      "display_name": "Python 3 (ipykernel)",
      "language": "python",
      "name": "python3"
    },
    "language_info": {
      "codemirror_mode": {
        "name": "ipython",
        "version": 3
      },
      "file_extension": ".py",
      "mimetype": "text/x-python",
      "name": "python",
      "nbconvert_exporter": "python",
      "pygments_lexer": "ipython3",
      "version": "3.9.7"
    },
    "widgets": {
      "application/vnd.jupyter.widget-state+json": {
        "77c71026089e47c6b756dd5a65dba5d5": {
          "model_module": "@jupyter-widgets/controls",
          "model_name": "HBoxModel",
          "model_module_version": "1.5.0",
          "state": {
            "_dom_classes": [],
            "_model_module": "@jupyter-widgets/controls",
            "_model_module_version": "1.5.0",
            "_model_name": "HBoxModel",
            "_view_count": null,
            "_view_module": "@jupyter-widgets/controls",
            "_view_module_version": "1.5.0",
            "_view_name": "HBoxView",
            "box_style": "",
            "children": [
              "IPY_MODEL_793da79aec8b480dabda67a8b20b420a",
              "IPY_MODEL_cdb3517bd06b4234aa7cf49603a2575d",
              "IPY_MODEL_978a50d9fb004ece941d5976ff9b5e35"
            ],
            "layout": "IPY_MODEL_b3dd4df98b734130bbdc5d1d7ad3d5a8"
          }
        },
        "793da79aec8b480dabda67a8b20b420a": {
          "model_module": "@jupyter-widgets/controls",
          "model_name": "HTMLModel",
          "model_module_version": "1.5.0",
          "state": {
            "_dom_classes": [],
            "_model_module": "@jupyter-widgets/controls",
            "_model_module_version": "1.5.0",
            "_model_name": "HTMLModel",
            "_view_count": null,
            "_view_module": "@jupyter-widgets/controls",
            "_view_module_version": "1.5.0",
            "_view_name": "HTMLView",
            "description": "",
            "description_tooltip": null,
            "layout": "IPY_MODEL_072478e275cf4d89a0c96dfba556a738",
            "placeholder": "​",
            "style": "IPY_MODEL_679636eaa2e743668aaeeec660db0028",
            "value": "100%"
          }
        },
        "cdb3517bd06b4234aa7cf49603a2575d": {
          "model_module": "@jupyter-widgets/controls",
          "model_name": "FloatProgressModel",
          "model_module_version": "1.5.0",
          "state": {
            "_dom_classes": [],
            "_model_module": "@jupyter-widgets/controls",
            "_model_module_version": "1.5.0",
            "_model_name": "FloatProgressModel",
            "_view_count": null,
            "_view_module": "@jupyter-widgets/controls",
            "_view_module_version": "1.5.0",
            "_view_name": "ProgressView",
            "bar_style": "success",
            "description": "",
            "description_tooltip": null,
            "layout": "IPY_MODEL_8fba6725bec3417eba1bfcd1bcd3fe32",
            "max": 46830571,
            "min": 0,
            "orientation": "horizontal",
            "style": "IPY_MODEL_e05dd91b45e94bfda8dd1b41d175de4b",
            "value": 46830571
          }
        },
        "978a50d9fb004ece941d5976ff9b5e35": {
          "model_module": "@jupyter-widgets/controls",
          "model_name": "HTMLModel",
          "model_module_version": "1.5.0",
          "state": {
            "_dom_classes": [],
            "_model_module": "@jupyter-widgets/controls",
            "_model_module_version": "1.5.0",
            "_model_name": "HTMLModel",
            "_view_count": null,
            "_view_module": "@jupyter-widgets/controls",
            "_view_module_version": "1.5.0",
            "_view_name": "HTMLView",
            "description": "",
            "description_tooltip": null,
            "layout": "IPY_MODEL_9cb6ffdad0684e32bc43896721dec273",
            "placeholder": "​",
            "style": "IPY_MODEL_16a85be9979849ecbff81ada398e5bd6",
            "value": " 44.7M/44.7M [00:00&lt;00:00, 133MB/s]"
          }
        },
        "b3dd4df98b734130bbdc5d1d7ad3d5a8": {
          "model_module": "@jupyter-widgets/base",
          "model_name": "LayoutModel",
          "model_module_version": "1.2.0",
          "state": {
            "_model_module": "@jupyter-widgets/base",
            "_model_module_version": "1.2.0",
            "_model_name": "LayoutModel",
            "_view_count": null,
            "_view_module": "@jupyter-widgets/base",
            "_view_module_version": "1.2.0",
            "_view_name": "LayoutView",
            "align_content": null,
            "align_items": null,
            "align_self": null,
            "border": null,
            "bottom": null,
            "display": null,
            "flex": null,
            "flex_flow": null,
            "grid_area": null,
            "grid_auto_columns": null,
            "grid_auto_flow": null,
            "grid_auto_rows": null,
            "grid_column": null,
            "grid_gap": null,
            "grid_row": null,
            "grid_template_areas": null,
            "grid_template_columns": null,
            "grid_template_rows": null,
            "height": null,
            "justify_content": null,
            "justify_items": null,
            "left": null,
            "margin": null,
            "max_height": null,
            "max_width": null,
            "min_height": null,
            "min_width": null,
            "object_fit": null,
            "object_position": null,
            "order": null,
            "overflow": null,
            "overflow_x": null,
            "overflow_y": null,
            "padding": null,
            "right": null,
            "top": null,
            "visibility": null,
            "width": null
          }
        },
        "072478e275cf4d89a0c96dfba556a738": {
          "model_module": "@jupyter-widgets/base",
          "model_name": "LayoutModel",
          "model_module_version": "1.2.0",
          "state": {
            "_model_module": "@jupyter-widgets/base",
            "_model_module_version": "1.2.0",
            "_model_name": "LayoutModel",
            "_view_count": null,
            "_view_module": "@jupyter-widgets/base",
            "_view_module_version": "1.2.0",
            "_view_name": "LayoutView",
            "align_content": null,
            "align_items": null,
            "align_self": null,
            "border": null,
            "bottom": null,
            "display": null,
            "flex": null,
            "flex_flow": null,
            "grid_area": null,
            "grid_auto_columns": null,
            "grid_auto_flow": null,
            "grid_auto_rows": null,
            "grid_column": null,
            "grid_gap": null,
            "grid_row": null,
            "grid_template_areas": null,
            "grid_template_columns": null,
            "grid_template_rows": null,
            "height": null,
            "justify_content": null,
            "justify_items": null,
            "left": null,
            "margin": null,
            "max_height": null,
            "max_width": null,
            "min_height": null,
            "min_width": null,
            "object_fit": null,
            "object_position": null,
            "order": null,
            "overflow": null,
            "overflow_x": null,
            "overflow_y": null,
            "padding": null,
            "right": null,
            "top": null,
            "visibility": null,
            "width": null
          }
        },
        "679636eaa2e743668aaeeec660db0028": {
          "model_module": "@jupyter-widgets/controls",
          "model_name": "DescriptionStyleModel",
          "model_module_version": "1.5.0",
          "state": {
            "_model_module": "@jupyter-widgets/controls",
            "_model_module_version": "1.5.0",
            "_model_name": "DescriptionStyleModel",
            "_view_count": null,
            "_view_module": "@jupyter-widgets/base",
            "_view_module_version": "1.2.0",
            "_view_name": "StyleView",
            "description_width": ""
          }
        },
        "8fba6725bec3417eba1bfcd1bcd3fe32": {
          "model_module": "@jupyter-widgets/base",
          "model_name": "LayoutModel",
          "model_module_version": "1.2.0",
          "state": {
            "_model_module": "@jupyter-widgets/base",
            "_model_module_version": "1.2.0",
            "_model_name": "LayoutModel",
            "_view_count": null,
            "_view_module": "@jupyter-widgets/base",
            "_view_module_version": "1.2.0",
            "_view_name": "LayoutView",
            "align_content": null,
            "align_items": null,
            "align_self": null,
            "border": null,
            "bottom": null,
            "display": null,
            "flex": null,
            "flex_flow": null,
            "grid_area": null,
            "grid_auto_columns": null,
            "grid_auto_flow": null,
            "grid_auto_rows": null,
            "grid_column": null,
            "grid_gap": null,
            "grid_row": null,
            "grid_template_areas": null,
            "grid_template_columns": null,
            "grid_template_rows": null,
            "height": null,
            "justify_content": null,
            "justify_items": null,
            "left": null,
            "margin": null,
            "max_height": null,
            "max_width": null,
            "min_height": null,
            "min_width": null,
            "object_fit": null,
            "object_position": null,
            "order": null,
            "overflow": null,
            "overflow_x": null,
            "overflow_y": null,
            "padding": null,
            "right": null,
            "top": null,
            "visibility": null,
            "width": null
          }
        },
        "e05dd91b45e94bfda8dd1b41d175de4b": {
          "model_module": "@jupyter-widgets/controls",
          "model_name": "ProgressStyleModel",
          "model_module_version": "1.5.0",
          "state": {
            "_model_module": "@jupyter-widgets/controls",
            "_model_module_version": "1.5.0",
            "_model_name": "ProgressStyleModel",
            "_view_count": null,
            "_view_module": "@jupyter-widgets/base",
            "_view_module_version": "1.2.0",
            "_view_name": "StyleView",
            "bar_color": null,
            "description_width": ""
          }
        },
        "9cb6ffdad0684e32bc43896721dec273": {
          "model_module": "@jupyter-widgets/base",
          "model_name": "LayoutModel",
          "model_module_version": "1.2.0",
          "state": {
            "_model_module": "@jupyter-widgets/base",
            "_model_module_version": "1.2.0",
            "_model_name": "LayoutModel",
            "_view_count": null,
            "_view_module": "@jupyter-widgets/base",
            "_view_module_version": "1.2.0",
            "_view_name": "LayoutView",
            "align_content": null,
            "align_items": null,
            "align_self": null,
            "border": null,
            "bottom": null,
            "display": null,
            "flex": null,
            "flex_flow": null,
            "grid_area": null,
            "grid_auto_columns": null,
            "grid_auto_flow": null,
            "grid_auto_rows": null,
            "grid_column": null,
            "grid_gap": null,
            "grid_row": null,
            "grid_template_areas": null,
            "grid_template_columns": null,
            "grid_template_rows": null,
            "height": null,
            "justify_content": null,
            "justify_items": null,
            "left": null,
            "margin": null,
            "max_height": null,
            "max_width": null,
            "min_height": null,
            "min_width": null,
            "object_fit": null,
            "object_position": null,
            "order": null,
            "overflow": null,
            "overflow_x": null,
            "overflow_y": null,
            "padding": null,
            "right": null,
            "top": null,
            "visibility": null,
            "width": null
          }
        },
        "16a85be9979849ecbff81ada398e5bd6": {
          "model_module": "@jupyter-widgets/controls",
          "model_name": "DescriptionStyleModel",
          "model_module_version": "1.5.0",
          "state": {
            "_model_module": "@jupyter-widgets/controls",
            "_model_module_version": "1.5.0",
            "_model_name": "DescriptionStyleModel",
            "_view_count": null,
            "_view_module": "@jupyter-widgets/base",
            "_view_module_version": "1.2.0",
            "_view_name": "StyleView",
            "description_width": ""
          }
        }
      }
    }
  },
  "nbformat": 4,
  "nbformat_minor": 5
}