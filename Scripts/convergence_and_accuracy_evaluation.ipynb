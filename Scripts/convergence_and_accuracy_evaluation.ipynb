{
 "cells": [
  {
   "cell_type": "markdown",
   "id": "6c3b4d26",
   "metadata": {},
   "source": [
    "# Convergence & Game Success\n",
    "Before analyzing the languages learnt by the agent communities, I check to what degree the communities actually agreed on a common language and whether they learnt to play the game succesfully."
   ]
  },
  {
   "cell_type": "markdown",
   "id": "ead1d830",
   "metadata": {},
   "source": [
    "### Loading Packages"
   ]
  },
  {
   "cell_type": "code",
   "execution_count": 1,
   "id": "2e914a6b",
   "metadata": {},
   "outputs": [],
   "source": [
    "import torch\n",
    "import torch.nn as nn\n",
    "import torch.nn.functional as F\n",
    "from torch.utils.data import DataLoader\n",
    "import egg.core as core\n",
    "from egg.core import Callback, Interaction, PrintValidationEvents\n",
    "from torchvision import models, datasets, transforms\n",
    "import numpy as np\n",
    "import random\n",
    "import matplotlib.pyplot as plt\n",
    "import os.path\n",
    "from torch.utils.data import Dataset\n",
    "import sys\n",
    "import argparse\n",
    "import math\n",
    "import psutil\n",
    "import csv\n",
    "import json\n",
    "from scipy.spatial import distance\n",
    "device = torch.device(\"cuda\" if torch.cuda.is_available() else \"cpu\")"
   ]
  },
  {
   "cell_type": "markdown",
   "id": "9915cbd4",
   "metadata": {},
   "source": [
    "### Computing Average Community Accuracies and Language Convergence Scores from Evaluation Data"
   ]
  },
  {
   "cell_type": "code",
   "execution_count": 2,
   "id": "5117579e",
   "metadata": {},
   "outputs": [],
   "source": [
    "# evaluation of language convergence and game accuracy on test set\n",
    "comm_sizes = [1,2,4]\n",
    "seeds = [1,2,3,4,5]\n",
    "# in the case of a single pair, the language convergence is 1 since there is only one message\n",
    "#convergence_scores = [1]\n",
    "avg_convergence_scores = []\n",
    "convergence_scores = []\n",
    "avg_accuracies = []\n",
    "accuracies = []\n",
    "\n",
    "def similarity_measure(message_1, message_2):\n",
    "    hamming_distance = distance.hamming(message_1, message_2)\n",
    "    return (1-hamming_distance)\n",
    "\n",
    "for size in comm_sizes:\n",
    "    size_conv_scores = []\n",
    "    size_accs = []\n",
    "    for seed in seeds:\n",
    "        seed_avg_pairw_sims = []\n",
    "        seed_accs = []\n",
    "        \n",
    "        # load the respective evaluation data\n",
    "        eval_data_path = './Data/Evaluation_Data/Comm_Size_'+ str(size) +'/Seed_'+str(seed)+'/evaluation_data.csv'\n",
    "        with open(eval_data_path, 'r') as eval_data:\n",
    "            reader = csv.reader(eval_data)\n",
    "            for i,line in enumerate(reader):\n",
    "                # skipping i = 0 (the header row)\n",
    "                if i > 0:\n",
    "                    seed_accs.append(float(line[3]))\n",
    "                    messages = []\n",
    "                    for sender_idx in range(size):\n",
    "                        message = np.array([int(symbol) for symbol in line[4+sender_idx].split(',')])\n",
    "                        messages.append(message)\n",
    "                    # computing the pairwise cosine similarities between all messages\n",
    "                    pairwise_similarities = []\n",
    "                    counter = 0\n",
    "                    for message_1 in messages[counter:]:\n",
    "                        for message_2 in messages[counter+1:]:\n",
    "                            pairwise_similarities.append(similarity_measure(message_1[:-1], message_2[:-1]).item())\n",
    "                        counter+=1\n",
    "                    # if statement to prevent computing mean of empty list (when size = 1)\n",
    "                    if size > 1:\n",
    "                        seed_avg_pairw_sims.append(np.array(pairwise_similarities).mean())\n",
    "                    elif size == 1:\n",
    "                        seed_avg_pairw_sims.append(1)\n",
    "        size_conv_scores.append(np.array(seed_avg_pairw_sims).mean())\n",
    "        size_accs.append(np.array(seed_accs).mean())\n",
    "    \n",
    "    avg_accuracies.append(np.array(size_accs).mean())\n",
    "    accuracies.append(size_accs)\n",
    "    # averaging over all the average pairwise similarites of the test dataset and storin as convergence score for plotting\n",
    "    avg_convergence_scores.append(np.array(size_conv_scores).mean())\n",
    "    convergence_scores.append(size_conv_scores)"
   ]
  },
  {
   "cell_type": "code",
   "execution_count": 6,
   "id": "d563b53b",
   "metadata": {},
   "outputs": [
    {
     "name": "stdout",
     "output_type": "stream",
     "text": [
      "Convergence Scores of all Seeds:\n",
      "[[1.0, 1.0, 1.0, 1.0, 1.0], [0.41692799999999997, 0.05441199999999999, 0.3771880000000001, 0.18587, 0.19354199999999996], [0.129448, 0.17345866666666668, 0.26265999999999995, 0.3855236666666667, 0.29656899999999997]]\n",
      "Accuracies of all Seeds:\n",
      "[[0.93856, 0.97503, 0.92774, 0.96633, 0.89976], [0.9125, 0.897315, 0.9189275, 0.906615, 0.9286025], [0.90751375, 0.89303625, 0.898134375, 0.896629375, 0.919498125]]\n",
      "Avg Convergence Scores of all Sizes:\n",
      "[1.0, 0.245588, 0.24953186666666666]\n",
      "Avg Accuracies of all Sizes:\n",
      "[0.941484, 0.9127919999999999, 0.9029623749999999]\n"
     ]
    }
   ],
   "source": [
    "print('Convergence Scores of all Seeds:')\n",
    "print(convergence_scores)\n",
    "print('Accuracies of all Seeds:')\n",
    "print(accuracies)\n",
    "print('Avg Convergence Scores of all Sizes:')\n",
    "print(avg_convergence_scores)\n",
    "print('Avg Accuracies of all Sizes:')\n",
    "print(avg_accuracies)"
   ]
  },
  {
   "cell_type": "markdown",
   "id": "f01de752",
   "metadata": {},
   "source": [
    "### Plotting"
   ]
  },
  {
   "cell_type": "code",
   "execution_count": 4,
   "id": "362c4f49",
   "metadata": {},
   "outputs": [
    {
     "data": {
      "text/plain": [
       "Text(0, 0.5, 'Accuracy')"
      ]
     },
     "execution_count": 4,
     "metadata": {},
     "output_type": "execute_result"
    },
    {
     "data": {
      "image/png": "[encoded data removed]",
      "text/plain": [
       "<Figure size 432x288 with 2 Axes>"
      ]
     },
     "metadata": {
      "needs_background": "light"
     },
     "output_type": "display_data"
    }
   ],
   "source": [
    "fig, axs = plt.subplots(1,2, sharex = True)\n",
    "#fig.tight_layout()\n",
    "plt.subplots_adjust(wspace = 1)\n",
    "axs[0].plot(comm_sizes, avg_convergence_scores)\n",
    "axs[0].grid(True)\n",
    "axs[0].set_title('Message Similarity')\n",
    "axs[0].set_xticks(comm_sizes)\n",
    "axs[0].set_xlabel('Community Sizes')\n",
    "axs[0].set_ylabel('Hamming Similarity')\n",
    "\n",
    "axs[1].plot(comm_sizes, avg_accuracies)\n",
    "axs[1].grid(True)\n",
    "axs[1].set_title('Game Success')\n",
    "axs[1].set_xlabel('Community Sizes')\n",
    "axs[1].set_ylabel('Accuracy')\n",
    "# 0.8915200000000001"
   ]
  },
  {
   "cell_type": "markdown",
   "id": "55b184f2",
   "metadata": {},
   "source": [
    "### Storing Results"
   ]
  },
  {
   "cell_type": "code",
   "execution_count": 8,
   "id": "5ab9bb41",
   "metadata": {},
   "outputs": [],
   "source": [
    "with open('./Data/Results/conv_scores.txt', 'a') as file:\n",
    "    for i,seed_scores in enumerate(convergence_scores):\n",
    "        str_seed_scores = str(seed_scores).replace('[', '').replace(']', '')\n",
    "        file.write(str_seed_scores + ';' + str(avg_convergence_scores[i]) + '\\n')\n",
    "\n",
    "with open('./Data/Results/accuracies.txt', 'a') as file:\n",
    "    for i,seed_accs in enumerate(accuracies):\n",
    "        str_seed_accs = str(seed_accs).replace('[', '').replace(']', '')\n",
    "        file.write(str_seed_accs + ';' + str(avg_accuracies[i]) + '\\n')"
   ]
  }
 ],
 "metadata": {
  "kernelspec": {
   "display_name": "Python 3 (ipykernel)",
   "language": "python",
   "name": "python3"
  },
  "language_info": {
   "codemirror_mode": {
    "name": "ipython",
    "version": 3
   },
   "file_extension": ".py",
   "mimetype": "text/x-python",
   "name": "python",
   "nbconvert_exporter": "python",
   "pygments_lexer": "ipython3",
   "version": "3.9.7"
  }
 },
 "nbformat": 4,
 "nbformat_minor": 5
}
